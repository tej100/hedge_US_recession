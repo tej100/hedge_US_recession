{
 "cells": [
  {
   "attachments": {},
   "cell_type": "markdown",
   "metadata": {},
   "source": [
    "# Preprocessing\n",
    "The purpose of this file is to preprocess all the raw data and output clean data "
   ]
  },
  {
   "attachments": {},
   "cell_type": "markdown",
   "metadata": {},
   "source": [
    "__Imports__"
   ]
  },
  {
   "cell_type": "code",
   "execution_count": 47,
   "metadata": {},
   "outputs": [],
   "source": [
    "import pandas as pd\n",
    "import os"
   ]
  },
  {
   "attachments": {},
   "cell_type": "markdown",
   "metadata": {},
   "source": [
    "__Download Data__"
   ]
  },
  {
   "cell_type": "code",
   "execution_count": 42,
   "metadata": {},
   "outputs": [],
   "source": [
    "data_dict = {}\n",
    "ignore_files = [\"README.md\"]\n",
    "# Get all files in directory (make sure your relative root is the project repository)\n",
    "for filename in os.scandir(\"RAW_DATA\"):\n",
    "    if filename.is_file() and filename.name not in ignore_files:\n",
    "        df = pd.read_csv(\"RAW_DATA/\" + filename.name, index_col=\"Date\", parse_dates=True)\n",
    "        name = filename.name.split(\".\")[0]\n",
    "        data_dict[name] = df"
   ]
  },
  {
   "cell_type": "code",
   "execution_count": null,
   "metadata": {},
   "outputs": [],
   "source": [
    "# Categorize data based on where we pulled them from and put them in their own lists\n",
    "\n",
    "# Yahoo Finance Data\n",
    "yfinance_data = [\"T3\", \"T10\", \"T20\", \"SP500\", \"NASDAQ\", \"DOW\", \"BTC\", \"ETH\", \"OIL\", \"GOLD\", \"REST\", \"CSTP\", \"HLC\", \"VOL\", \"WHEAT\", \"USD\", \"EURO\", \"CORN\"]"
   ]
  },
  {
   "attachments": {},
   "cell_type": "markdown",
   "metadata": {},
   "source": [
    "## Clean Yahoo Finance Data"
   ]
  },
  {
   "cell_type": "code",
   "execution_count": 45,
   "metadata": {},
   "outputs": [],
   "source": [
    "for k in yfinance_data:\n",
    "    data_dict[k] = data_dict[k][[\"Adj Close\", \"Volume\"]].interpolate(method=\"time\")\n",
    "    data_dict[k][\"Returns\"] = data_dict[k][\"Adj Close\"].pct_change().fillna(0)\n",
    "    # Check if there are still any nan values in the data\n",
    "    if not data_dict[k].notna().all().all():\n",
    "        raise Exception(\"NaNs in data\")"
   ]
  },
  {
   "attachments": {},
   "cell_type": "markdown",
   "metadata": {},
   "source": [
    "## Export all Cleaned Data"
   ]
  },
  {
   "cell_type": "code",
   "execution_count": 46,
   "metadata": {},
   "outputs": [],
   "source": [
    "# Push all cleaned data files to csv in CLEAN_DATA folder\n",
    "for k, v in data_dict.items():\n",
    "    v.to_csv(\"CLEAN_DATA/\" + k + \".csv\", header=True, index_label=\"Date\")\n"
   ]
  }
 ],
 "metadata": {
  "kernelspec": {
   "display_name": "ssmif_fm",
   "language": "python",
   "name": "python3"
  },
  "language_info": {
   "codemirror_mode": {
    "name": "ipython",
    "version": 3
   },
   "file_extension": ".py",
   "mimetype": "text/x-python",
   "name": "python",
   "nbconvert_exporter": "python",
   "pygments_lexer": "ipython3",
   "version": "3.9.16"
  },
  "orig_nbformat": 4
 },
 "nbformat": 4,
 "nbformat_minor": 2
}
