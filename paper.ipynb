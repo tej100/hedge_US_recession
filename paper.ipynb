{
 "cells": [
  {
   "attachments": {},
   "cell_type": "markdown",
   "metadata": {},
   "source": [
    "# Hedges to the US Equities Market<br>\n",
    "## Authors: Tejas Appana, Drew Carranti, Muhammad Elfayoumi<br>\n",
    "#### As the US Economy inevitably enters a recession (68% chance according to the Federal Reserve) within 18 months, it is important to start considering alternative assets to trasnfer invested capital to. Considering significant inflationary pressure on typical safe havens, such as the U.S. dollar, non-traditional asset classes may be the answer to investor's hedging needs.\n",
    "### Some assets to consider are...\n",
    "- Global Markets\n",
    "- Fixed Income (US & Japanese)\n",
    "- Crypto Currency (BTC, ETH, Stable Coins)\n",
    "- Foreign currency (Yen)\n",
    "- Commodities (Gold, Oil)\n",
    "- Natural hedges?\n",
    "\n",
    "### Some factors to consider are...\n",
    "- Correlation (no vs. perfect negative)\n",
    "- Zeroing losses or smoothing returns\n",
    "- Correlation convergance during extended selloffs\n",
    "- When hedge is implemented relative to spark of volatility\n",
    "- New hedge classes native risks\n",
    "- Tail risk hedges (+3SD events)"
   ]
  },
  {
   "attachments": {},
   "cell_type": "markdown",
   "metadata": {},
   "source": [
    "__Import Libraries__"
   ]
  },
  {
   "cell_type": "code",
   "execution_count": 1,
   "metadata": {},
   "outputs": [],
   "source": [
    "import pandas as pd\n",
    "import numpy as np\n",
    "import yfinance as yf"
   ]
  },
  {
   "attachments": {},
   "cell_type": "markdown",
   "metadata": {},
   "source": [
    "__Download Data__"
   ]
  },
  {
   "cell_type": "code",
   "execution_count": null,
   "metadata": {},
   "outputs": [],
   "source": [
    "alts = yf.download([\"SHY\", \"IEF\", \"TLT\", \"BTC-USD\", \"ETH-USD\", \"BZ=F\", \"GC=F\", \"VNQ\"], start=\"2000-01-01\",  end=\"2023-01-01\", group_by=\"tickers\")  # iShares 1-3 | iShares 7-10 | iShares 20+ yrs\n",
    "alts = alts.rename(columns={\"SHY\":\"T3\",\"IEF\":\"T10\",\"TLT\":\"T20\", \"BTC-USD\":\"BTC\", \"ETH-USD\":\"ETH\", \"BZ=F\":\"OIL\", \"GC=F\":\"GOLD\", \"VNQ\":\"REST\"})"
   ]
  }
 ],
 "metadata": {
  "kernelspec": {
   "display_name": "ssmif_fm",
   "language": "python",
   "name": "python3"
  },
  "language_info": {
   "codemirror_mode": {
    "name": "ipython",
    "version": 3
   },
   "file_extension": ".py",
   "mimetype": "text/x-python",
   "name": "python",
   "nbconvert_exporter": "python",
   "pygments_lexer": "ipython3",
   "version": "3.9.16"
  },
  "orig_nbformat": 4
 },
 "nbformat": 4,
 "nbformat_minor": 2
}
