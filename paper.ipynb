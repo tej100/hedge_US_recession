{
 "cells": [
  {
   "attachments": {},
   "cell_type": "markdown",
   "metadata": {},
   "source": [
    "# Hedges to the US Equities Market<br>\n",
    "## Authors: Tejas Appana, Drew Carranti, Muhammad Elfayoumi<br>\n",
    "#### As the US Economy inevitably enters a recession (54% chance according to the Federal Reserve) within 12 months, it is important to start considering alternative assets to trasnfer invested capital to. Considering significant inflationary pressure on typical safe havens, such as the U.S. dollar, non-traditional asset classes may be the answer to investor's hedging needs.\n",
    "### Some assets to consider are...\n",
    "- Global Markets\n",
    "- Fixed Income (US & Japanese)\n",
    "- Crypto Currency (BTC, ETH, Stable Coins)\n",
    "- Foreign currency (Yen)\n",
    "- Commodities (Gold, Oil)\n",
    "- Natural hedges?\n",
    "\n",
    "### Some concepts to consider are...\n",
    "- Correlation (no vs. perfect negative)\n",
    "- Zeroing losses or smoothing returns\n",
    "- Correlation convergance during extended selloffs\n",
    "- When hedge is implemented relative to spark of volatility\n",
    "- New hedge classes native risks\n",
    "- Tail risk hedges (+3SD events)\n",
    "\n",
    "\n",
    "### Alternative assets under consideration\n",
    "- Nasdaq Composite (QQQ)\n",
    "- Dow Jones Industrial Average (DIA)\n",
    "- iShares 1-3 Year Treasury Bond ETF (SHY)\n",
    "- iShares 7-10 Year Treasury Bond ETF (IEF)\n",
    "- iShares 20+ Year Treasury Bond ETF (TLT)\n",
    "- Vanguard Real Estate Index Fund (VNQ)\n",
    "- ICE Futures US Dollar Index (DX-Y.NYB)\n",
    "- S&P 500 Consumer Staples Sector (^SP500-30)\n",
    "- Gold (GC=F)\n",
    "- Bitcoin (BTC-USD)\n",
    "- Ethereum (ETH-USD)\n",
    "- Brent Crude Oil (BZ=F)\n",
    "- Corn Futures (ZC=F)\n",
    "- CBOE Volatility Index (^VIX)\n",
    "- CME Eurodollar Futures (GE=F)\n",
    "- Chicago SRW Wheat Futures (ZW=F)\n"
   ]
  },
  {
   "attachments": {},
   "cell_type": "markdown",
   "metadata": {},
   "source": [
    "### Import Libraries"
   ]
  },
  {
   "cell_type": "code",
   "execution_count": 3,
   "metadata": {},
   "outputs": [
    {
     "ename": "ModuleNotFoundError",
     "evalue": "No module named 'classes'",
     "output_type": "error",
     "traceback": [
      "\u001b[1;31m---------------------------------------------------------------------------\u001b[0m",
      "\u001b[1;31mModuleNotFoundError\u001b[0m                       Traceback (most recent call last)",
      "Cell \u001b[1;32mIn[3], line 19\u001b[0m\n\u001b[0;32m     16\u001b[0m \u001b[39mimport\u001b[39;00m \u001b[39mseaborn\u001b[39;00m \u001b[39mas\u001b[39;00m \u001b[39msns\u001b[39;00m\n\u001b[0;32m     18\u001b[0m \u001b[39m# Module Imports\u001b[39;00m\n\u001b[1;32m---> 19\u001b[0m \u001b[39mfrom\u001b[39;00m \u001b[39msrc\u001b[39;00m\u001b[39m.\u001b[39;00m\u001b[39mclasses\u001b[39;00m\u001b[39m.\u001b[39;00m\u001b[39masset_portfolio\u001b[39;00m \u001b[39mimport\u001b[39;00m AssetPortfolio\n\u001b[0;32m     20\u001b[0m \u001b[39mfrom\u001b[39;00m \u001b[39msrc\u001b[39;00m\u001b[39m.\u001b[39;00m\u001b[39mclasses\u001b[39;00m\u001b[39m.\u001b[39;00m\u001b[39mobjects\u001b[39;00m \u001b[39mimport\u001b[39;00m import_data, rf\n",
      "File \u001b[1;32md:\\hedge_US_recession\\src\\classes\\asset_portfolio.py:7\u001b[0m\n\u001b[0;32m      5\u001b[0m \u001b[39mimport\u001b[39;00m \u001b[39mstatsmodels\u001b[39;00m\u001b[39m.\u001b[39;00m\u001b[39mformula\u001b[39;00m\u001b[39m.\u001b[39;00m\u001b[39mapi\u001b[39;00m \u001b[39mas\u001b[39;00m \u001b[39msm\u001b[39;00m\n\u001b[0;32m      6\u001b[0m \u001b[39mfrom\u001b[39;00m \u001b[39mscipy\u001b[39;00m\u001b[39m.\u001b[39;00m\u001b[39mstats\u001b[39;00m \u001b[39mimport\u001b[39;00m t, f\n\u001b[1;32m----> 7\u001b[0m \u001b[39mfrom\u001b[39;00m \u001b[39mclasses\u001b[39;00m\u001b[39m.\u001b[39;00m\u001b[39mobjects\u001b[39;00m \u001b[39mimport\u001b[39;00m rf, recession_periods, bullish_periods\n\u001b[0;32m      8\u001b[0m \u001b[39mimport\u001b[39;00m \u001b[39mmatplotlib\u001b[39;00m\u001b[39m.\u001b[39;00m\u001b[39mpyplot\u001b[39;00m \u001b[39mas\u001b[39;00m \u001b[39mplt\u001b[39;00m\n\u001b[0;32m     10\u001b[0m \u001b[39mclass\u001b[39;00m \u001b[39mAssetPortfolio\u001b[39;00m:\n",
      "\u001b[1;31mModuleNotFoundError\u001b[0m: No module named 'classes'"
     ]
    }
   ],
   "source": [
    "# Default Imports\n",
    "import os\n",
    "import sys\n",
    "import time\n",
    "import warnings\n",
    "from loguru import logger\n",
    "\n",
    "# Data Manipulation\n",
    "import pandas as pd\n",
    "import numpy as np\n",
    "import datetime as dt\n",
    "\n",
    "# Data Visualization\n",
    "import matplotlib.pyplot as plt\n",
    "import plotly.express as px\n",
    "import seaborn as sns\n",
    "\n",
    "# Module Imports\n",
    "# from src.classes.asset_portfolio import AssetPortfolio\n",
    "# from src.classes.objects import import_data, rf"
   ]
  },
  {
   "cell_type": "code",
   "execution_count": 55,
   "metadata": {},
   "outputs": [],
   "source": [
    "# Presets\n",
    "warnings.filterwarnings(\"ignore\")"
   ]
  },
  {
   "attachments": {},
   "cell_type": "markdown",
   "metadata": {},
   "source": [
    "### Import Data"
   ]
  },
  {
   "cell_type": "code",
   "execution_count": 56,
   "metadata": {},
   "outputs": [],
   "source": [
    "# From CLEAN_DATA folder, import all data\n",
    "data_dict = import_data(\"CLEAN_DATA\", ignore_files=[\"README.md\"])\n",
    "\n",
    "recession_portfolios = {}\n",
    "bullish_portfolios = {}\n",
    "full_portfolios = {}\n",
    "\n",
    "# Replace all values in data_dict with AssetPortfolio objects\n",
    "for k in data_dict.keys():\n",
    "    logger.info(f\"Creating Portfolios for {k}\")\n",
    "    full_portfolios[k] = AssetPortfolio(k)\n",
    "    recession_portfolios[k] = AssetPortfolio(k, \"recession\")\n",
    "    bullish_portfolios[k] = AssetPortfolio(k, \"bullish\")\n",
    "    logger.success(f\"Portfolios for {k} Created\")"
   ]
  }
 ],
 "metadata": {
  "kernelspec": {
   "display_name": "ssmif_fm",
   "language": "python",
   "name": "python3"
  },
  "language_info": {
   "codemirror_mode": {
    "name": "ipython",
    "version": 3
   },
   "file_extension": ".py",
   "mimetype": "text/x-python",
   "name": "python",
   "nbconvert_exporter": "python",
   "pygments_lexer": "ipython3",
   "version": "3.9.16"
  },
  "orig_nbformat": 4
 },
 "nbformat": 4,
 "nbformat_minor": 2
}
