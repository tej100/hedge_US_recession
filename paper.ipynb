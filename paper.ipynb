{
 "cells": [
  {
   "attachments": {},
   "cell_type": "markdown",
   "metadata": {},
   "source": [
    "# Hedges to the US Equities Market<br>\n",
    "## Authors: Tejas Appana, Drew Carranti, Muhammad Elfayoumi<br>\n",
    "#### As the US Economy inevitably enters a recession (68% chance according to the Federal Reserve) within 18 months, it is important to start considering alternative assets to trasnfer invested capital to. Considering significant inflationary pressure on typical safe havens, such as the U.S. dollar, non-traditional asset classes may be the answer to investor's hedging needs.\n",
    "### Some assets to consider are...\n",
    "- Global Markets\n",
    "- Fixed Income (US & Japanese)\n",
    "- Crypto Currency (BTC, ETH, Stable Coins)\n",
    "- Foreign currency (Yen)\n",
    "- Commodities (Gold, Oil)\n",
    "- Natural hedges?\n",
    "\n",
    "### Some concepts to consider are...\n",
    "- Correlation (no vs. perfect negative)\n",
    "- Zeroing losses or smoothing returns\n",
    "- Correlation convergance during extended selloffs\n",
    "- When hedge is implemented relative to spark of volatility\n",
    "- New hedge classes native risks\n",
    "- Tail risk hedges (+3SD events)"
   ]
  },
  {
   "attachments": {},
   "cell_type": "markdown",
   "metadata": {},
   "source": [
    "### Import Libraries"
   ]
  },
  {
   "cell_type": "code",
   "execution_count": 54,
   "metadata": {},
   "outputs": [],
   "source": [
    "# Default Imports\n",
    "import os\n",
    "import sys\n",
    "import time\n",
    "import warnings\n",
    "\n",
    "# Data Manipulation\n",
    "import pandas as pd\n",
    "import numpy as np\n",
    "import datetime as dt\n",
    "\n",
    "# Data Visualization\n",
    "import matplotlib.pyplot as plt\n",
    "import plotly.express as px\n",
    "import seaborn as sns"
   ]
  },
  {
   "cell_type": "code",
   "execution_count": 55,
   "metadata": {},
   "outputs": [],
   "source": [
    "# Presets\n",
    "warnings.filterwarnings(\"ignore\")"
   ]
  },
  {
   "attachments": {},
   "cell_type": "markdown",
   "metadata": {},
   "source": [
    "### Import Data"
   ]
  },
  {
   "cell_type": "code",
   "execution_count": 56,
   "metadata": {},
   "outputs": [],
   "source": [
    "# From CLEAN_DATA folder, import all data"
   ]
  }
 ],
 "metadata": {
  "kernelspec": {
   "display_name": "ssmif_fm",
   "language": "python",
   "name": "python3"
  },
  "language_info": {
   "codemirror_mode": {
    "name": "ipython",
    "version": 3
   },
   "file_extension": ".py",
   "mimetype": "text/x-python",
   "name": "python",
   "nbconvert_exporter": "python",
   "pygments_lexer": "ipython3",
   "version": "3.9.16"
  },
  "orig_nbformat": 4
 },
 "nbformat": 4,
 "nbformat_minor": 2
}
